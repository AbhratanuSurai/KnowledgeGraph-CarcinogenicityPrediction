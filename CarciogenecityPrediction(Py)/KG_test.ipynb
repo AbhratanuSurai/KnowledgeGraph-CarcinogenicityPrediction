{
 "metadata": {
  "language_info": {
   "codemirror_mode": {
    "name": "ipython",
    "version": 3
   },
   "file_extension": ".py",
   "mimetype": "text/x-python",
   "name": "python",
   "nbconvert_exporter": "python",
   "pygments_lexer": "ipython3",
   "version": "3.7.0"
  },
  "orig_nbformat": 4,
  "kernelspec": {
   "name": "python3",
   "display_name": "Python 3.7.0 64-bit"
  },
  "interpreter": {
   "hash": "d7460e620e61222a5b6664c022b7886641acc7c1fcdf9e52949063fce5ed53df"
  }
 },
 "nbformat": 4,
 "nbformat_minor": 2,
 "cells": [
  {
   "cell_type": "code",
   "execution_count": 1,
   "metadata": {},
   "outputs": [],
   "source": [
    "from rdflib import Graph\n",
    "\n",
    "# Initializing a graph and parsing a turtle file in graph structure\n",
    "\n",
    "g = Graph()\n",
    "result = g.parse(\"kg-mini-project-train_v2.ttl\", format=\"ttl\")"
   ]
  },
  {
   "cell_type": "code",
   "execution_count": 3,
   "metadata": {},
   "outputs": [],
   "source": [
    "subjects = set()\n",
    "predicates = set()\n",
    "\n",
    "# Storing distinct subjects and distinct predicates\n",
    "# in the sets subjects and predicates\n",
    "\n",
    "for s in g.subjects():\n",
    "    subjects.add(s)\n",
    "for p in g.predicates():\n",
    "    predicates.add(p)"
   ]
  },
  {
   "cell_type": "code",
   "execution_count": 4,
   "metadata": {},
   "outputs": [],
   "source": [
    "eachPositiveLabels = []\n",
    "eachNegativeLabels = []\n",
    "allPositiveLabels = []\n",
    "allNegativeLabels = []\n",
    "\n",
    "# eachPositiveLabels is a list of positive examples\n",
    "#     that contains 2 rdflib.term.URIRef items;\n",
    "#     1) Name of the learning problem\n",
    "#     2) The carcinogenesis bond itself\n",
    "#\n",
    "#     allPositiveLabels is a list of lists of above type\n",
    "#\n",
    "# Similar lists also exists for negative examples as well\n",
    "# namely eachLearningProblemNegativeLabels and allLearningProblemPositiveLabels.\n",
    "\n",
    "for s in list(subjects):\n",
    "    for p in list(predicates):\n",
    "        if str(p) == \"https://lpbenchgen.org/property/includesResource\":\n",
    "            for o in g.objects(s, p):\n",
    "                eachPositiveLabels = [s, o]\n",
    "                allPositiveLabels.append(eachPositiveLabels)\n",
    "        elif str(p) == \"https://lpbenchgen.org/property/excludesResource\":\n",
    "            for o in g.objects(s, p):\n",
    "                eachNegativeLabels = [s, o]\n",
    "                allNegativeLabels.append(eachNegativeLabels)"
   ]
  },
  {
   "cell_type": "code",
   "execution_count": 5,
   "metadata": {},
   "outputs": [],
   "source": [
    "# storing all carcinigenesis bond of lp_4 with positive and negative labels\n",
    "posForOneLP = set()\n",
    "for eachLabel in allPositiveLabels:\n",
    "    if str(eachLabel[0]) == \"https://lpbenchgen.org/resource/lp_4\":\n",
    "        posForOneLP.add(str(eachLabel[1]))\n",
    "\n",
    "negForOneLP = set()\n",
    "for eachLabel in allNegativeLabels:\n",
    "    if str(eachLabel[0]) == \"https://lpbenchgen.org/resource/lp_4\":\n",
    "        negForOneLP.add(str(eachLabel[1]))"
   ]
  },
  {
   "cell_type": "code",
   "execution_count": 7,
   "metadata": {},
   "outputs": [
    {
     "output_type": "error",
     "ename": "AttributeError",
     "evalue": "'NoneType' object has no attribute 'h_exp'",
     "traceback": [
      "\u001b[1;31m---------------------------------------------------------------------------\u001b[0m",
      "\u001b[1;31mAttributeError\u001b[0m                            Traceback (most recent call last)",
      "\u001b[1;32m<ipython-input-7-bea1deb51d7a>\u001b[0m in \u001b[0;36m<module>\u001b[1;34m\u001b[0m\n\u001b[0;32m     13\u001b[0m                              verbose=False)\n\u001b[0;32m     14\u001b[0m \u001b[1;33m\u001b[0m\u001b[0m\n\u001b[1;32m---> 15\u001b[1;33m \u001b[0mmodel\u001b[0m\u001b[1;33m.\u001b[0m\u001b[0mpredict\u001b[0m\u001b[1;33m(\u001b[0m\u001b[0mpos\u001b[0m\u001b[1;33m=\u001b[0m\u001b[0mp\u001b[0m\u001b[1;33m,\u001b[0m \u001b[0mneg\u001b[0m\u001b[1;33m=\u001b[0m\u001b[0mn\u001b[0m\u001b[1;33m)\u001b[0m\u001b[1;33m\u001b[0m\u001b[0m\n\u001b[0m\u001b[0;32m     16\u001b[0m \u001b[0mmodel\u001b[0m\u001b[1;33m.\u001b[0m\u001b[0mshow_best_predictions\u001b[0m\u001b[1;33m(\u001b[0m\u001b[0mtop_n\u001b[0m\u001b[1;33m=\u001b[0m\u001b[1;36m10\u001b[0m\u001b[1;33m)\u001b[0m\u001b[1;33m\u001b[0m\u001b[0m\n",
      "\u001b[1;32m~\\AppData\\Local\\Programs\\Python\\Python37\\lib\\site-packages\\ontolearn\\concept_learner.py\u001b[0m in \u001b[0;36mpredict\u001b[1;34m(self, pos, neg)\u001b[0m\n\u001b[0;32m     53\u001b[0m \u001b[1;33m\u001b[0m\u001b[0m\n\u001b[0;32m     54\u001b[0m             \u001b[0mnode_to_expand\u001b[0m \u001b[1;33m=\u001b[0m \u001b[0mself\u001b[0m\u001b[1;33m.\u001b[0m\u001b[0mnext_node_to_expand\u001b[0m\u001b[1;33m(\u001b[0m\u001b[0mj\u001b[0m\u001b[1;33m)\u001b[0m\u001b[1;33m\u001b[0m\u001b[0m\n\u001b[1;32m---> 55\u001b[1;33m             \u001b[0mh_exp\u001b[0m \u001b[1;33m=\u001b[0m \u001b[0mnode_to_expand\u001b[0m\u001b[1;33m.\u001b[0m\u001b[0mh_exp\u001b[0m\u001b[1;33m\u001b[0m\u001b[0m\n\u001b[0m\u001b[0;32m     56\u001b[0m \u001b[1;33m\u001b[0m\u001b[0m\n\u001b[0;32m     57\u001b[0m             \u001b[1;32mfor\u001b[0m \u001b[0mref\u001b[0m \u001b[1;32min\u001b[0m \u001b[0mself\u001b[0m\u001b[1;33m.\u001b[0m\u001b[0mapply_rho\u001b[0m\u001b[1;33m(\u001b[0m\u001b[0mnode_to_expand\u001b[0m\u001b[1;33m)\u001b[0m\u001b[1;33m:\u001b[0m\u001b[1;33m\u001b[0m\u001b[0m\n",
      "\u001b[1;31mAttributeError\u001b[0m: 'NoneType' object has no attribute 'h_exp'"
     ]
    }
   ],
   "source": [
    "from ontolearn import KnowledgeBase, SampleConceptLearner\n",
    "from ontolearn.metrics import F1, PredictiveAccuracy, CELOEHeuristic, DLFOILHeuristic\n",
    "kb = KnowledgeBase(path='carcinogenesis.owl')\n",
    "\n",
    "p = posForOneLP\n",
    "n = negForOneLP\n",
    "\n",
    "model = SampleConceptLearner(knowledge_base=kb,\n",
    "                             quality_func=F1(),\n",
    "                             terminate_on_goal=True,\n",
    "                             heuristic_func=DLFOILHeuristic(),\n",
    "                             iter_bound=100,\n",
    "                             verbose=False)\n",
    "\n",
    "model.predict(pos=p, neg=n)\n",
    "model.show_best_predictions(top_n=10)"
   ]
  }
 ]
}